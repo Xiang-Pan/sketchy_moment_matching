{
 "cells": [
  {
   "cell_type": "code",
   "execution_count": 1,
   "metadata": {},
   "outputs": [],
   "source": [
    "# result/test_as_val_True/CIFAR10_TwoLayerCLIP_Uncertainty_exp0_epoch200_2024-05-21 22:49:44.929998_0.001_0_37.480000.ckpt\n",
    "import torch\n",
    "ckpt = torch.load('result/test_as_val_True/CIFAR10_TwoLayerCLIP_Uncertainty_exp0_epoch200_2024-05-21 22:49:44.929998_0.001_0_37.480000.ckpt', map_location='cpu')"
   ]
  },
  {
   "cell_type": "code",
   "execution_count": 3,
   "metadata": {},
   "outputs": [
    {
     "data": {
      "text/plain": [
       "dict_keys(['exp', 'epoch', 'state_dict', 'opt_dict', 'best_acc1', 'rec', 'subset', 'sel_args'])"
      ]
     },
     "execution_count": 3,
     "metadata": {},
     "output_type": "execute_result"
    }
   ],
   "source": [
    "ckpt.keys()"
   ]
  },
  {
   "cell_type": "code",
   "execution_count": null,
   "metadata": {},
   "outputs": [],
   "source": [
    "ckpt['sel_args']"
   ]
  }
 ],
 "metadata": {
  "kernelspec": {
   "display_name": "Python 3",
   "language": "python",
   "name": "python3"
  },
  "language_info": {
   "codemirror_mode": {
    "name": "ipython",
    "version": 3
   },
   "file_extension": ".py",
   "mimetype": "text/x-python",
   "name": "python",
   "nbconvert_exporter": "python",
   "pygments_lexer": "ipython3",
   "version": "3.11.9"
  }
 },
 "nbformat": 4,
 "nbformat_minor": 2
}
