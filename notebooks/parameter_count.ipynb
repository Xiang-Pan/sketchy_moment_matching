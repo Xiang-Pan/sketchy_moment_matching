{
 "cells": [
  {
   "cell_type": "code",
   "execution_count": 1,
   "metadata": {},
   "outputs": [],
   "source": [
    "import torch"
   ]
  },
  {
   "cell_type": "code",
   "execution_count": 7,
   "metadata": {},
   "outputs": [
    {
     "name": "stdout",
     "output_type": "stream",
     "text": [
      "5130 8393728\n"
     ]
    }
   ],
   "source": [
    "# get resnet18 model\n",
    "import torchvision.models as models\n",
    "resnet18 = models.resnet18(pretrained=True)\n",
    "num_classes = 10\n",
    "resnet18.fc = torch.nn.Linear(resnet18.fc.in_features, num_classes)\n",
    "\n",
    "# count the last layer parameters\n",
    "num_last_layer_params = sum(p.numel() for p in resnet18.fc.parameters())\n",
    "# count the second last layer parameters\n",
    "num_second_last_layer_params = sum(p.numel() for p in resnet18.layer4.parameters())\n",
    "print(num_last_layer_params, num_second_last_layer_params)"
   ]
  },
  {
   "cell_type": "code",
   "execution_count": null,
   "metadata": {},
   "outputs": [],
   "source": []
  }
 ],
 "metadata": {
  "kernelspec": {
   "display_name": "Python 3",
   "language": "python",
   "name": "python3"
  },
  "language_info": {
   "codemirror_mode": {
    "name": "ipython",
    "version": 3
   },
   "file_extension": ".py",
   "mimetype": "text/x-python",
   "name": "python",
   "nbconvert_exporter": "python",
   "pygments_lexer": "ipython3",
   "version": "3.11.9"
  }
 },
 "nbformat": 4,
 "nbformat_minor": 2
}
